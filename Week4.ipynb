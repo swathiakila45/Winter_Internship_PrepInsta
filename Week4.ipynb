{
  "nbformat": 4,
  "nbformat_minor": 0,
  "metadata": {
    "colab": {
      "provenance": [],
      "authorship_tag": "ABX9TyNBW6ykLUMlpK8kY2WMZPy+",
      "include_colab_link": true
    },
    "kernelspec": {
      "name": "python3",
      "display_name": "Python 3"
    },
    "language_info": {
      "name": "python"
    }
  },
  "cells": [
    {
      "cell_type": "markdown",
      "metadata": {
        "id": "view-in-github",
        "colab_type": "text"
      },
      "source": [
        "<a href=\"https://colab.research.google.com/github/swathiakila45/Winter_Internship_PrepInsta/blob/main/Week4.ipynb\" target=\"_parent\"><img src=\"https://colab.research.google.com/assets/colab-badge.svg\" alt=\"Open In Colab\"/></a>"
      ]
    },
    {
      "cell_type": "code",
      "execution_count": 1,
      "metadata": {
        "colab": {
          "base_uri": "https://localhost:8080/",
          "height": 0
        },
        "id": "_YvNvE4EBjIV",
        "outputId": "02781004-faac-49cf-e3b7-7820ad49653b"
      },
      "outputs": [
        {
          "output_type": "stream",
          "name": "stdout",
          "text": [
            "Hello !\n"
          ]
        }
      ],
      "source": [
        "print(\"Hello !\")"
      ]
    },
    {
      "cell_type": "markdown",
      "source": [
        "importing files"
      ],
      "metadata": {
        "id": "PcxfSMlDB7v9"
      }
    },
    {
      "cell_type": "code",
      "source": [
        "import pandas as pd\n",
        "population= pd.read_csv(\"/content/country_population.csv\")\n",
        "fertility=pd.read_csv(\"/content/fertility_rate.csv\")\n",
        "life_expectency=pd.read_csv(\"/content/life_expectancy.csv\")\n",
        "metadata=pd.read_csv(\"/content/Metadata_Country.csv\")\n",
        "\n",
        "years=[str(i) i in ]"
      ],
      "metadata": {
        "id": "q9k9ZrBdBw49"
      },
      "execution_count": 22,
      "outputs": []
    },
    {
      "cell_type": "markdown",
      "source": [
        "Cleaning country document data"
      ],
      "metadata": {
        "id": "ieWBEPryDPFR"
      }
    },
    {
      "cell_type": "code",
      "source": [
        "population_copy=population.copy()\n",
        "\n",
        "\n",
        "population_copy.drop(['Indicator Code','Indicator Name'],axis=1,inplace=True)\n",
        "\n",
        "population_copy.rename(columns={'Country Name':'country_name','Country Code':'country_code'},inplace=True)\n",
        "\n",
        "population_copy.dropna(axis=0,inplace=True)\n",
        "\n",
        "\n",
        "population_copy.shape\n",
        "\n"
      ],
      "metadata": {
        "colab": {
          "base_uri": "https://localhost:8080/"
        },
        "id": "tbV-w0jdB2Yr",
        "outputId": "edce54ca-ab9c-4e05-f6bf-9e0821c3f183"
      },
      "execution_count": 23,
      "outputs": [
        {
          "output_type": "execute_result",
          "data": {
            "text/plain": [
              "(258, 59)"
            ]
          },
          "metadata": {},
          "execution_count": 23
        }
      ]
    }
  ]
}