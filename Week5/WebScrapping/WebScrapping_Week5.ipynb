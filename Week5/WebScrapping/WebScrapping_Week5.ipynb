{
  "nbformat": 4,
  "nbformat_minor": 0,
  "metadata": {
    "colab": {
      "provenance": []
    },
    "kernelspec": {
      "name": "python3",
      "display_name": "Python 3"
    },
    "language_info": {
      "name": "python"
    }
  },
  "cells": [
    {
      "cell_type": "code",
      "execution_count": 21,
      "metadata": {
        "id": "VyZopbZAMp1H"
      },
      "outputs": [],
      "source": [
        "import requests\n",
        "from bs4 import BeautifulSoup as bs\n",
        "import pandas as pd"
      ]
    },
    {
      "cell_type": "markdown",
      "source": [
        "a function to send book tags to the book_details function"
      ],
      "metadata": {
        "id": "qZ2kLmkmPo-g"
      }
    },
    {
      "cell_type": "code",
      "source": [
        "def book_tags():\n",
        "    b_soup = get_soup(url)\n",
        "    book_tags=b_soup.find_all('article',class_='product_pod')\n",
        "    books=[]\n",
        "\n",
        "    for i in book_tags:\n",
        "        books.append(book_details(i))\n",
        "    return books"
      ],
      "metadata": {
        "id": "eiKoruX2PmJb"
      },
      "execution_count": 16,
      "outputs": []
    },
    {
      "cell_type": "markdown",
      "source": [
        "Getting book details such as =>\n",
        "\n",
        "Book name\n",
        "\n",
        "Rating\n",
        "\n",
        "Price of the Book\n",
        "\n",
        "Link for the book\n",
        "\n",
        "Generalising these to multiple books so making it as a function"
      ],
      "metadata": {
        "id": "Tuu5jCJvPrDh"
      }
    },
    {
      "cell_type": "code",
      "source": [
        "def book_details(book_tag):\n",
        "    book_title = book_tag.find('a', title=True)['title']\n",
        "    book_rating = book_tag.find('p')['class'][1]\n",
        "    book_price = book_tag.find('p', class_='price_color').text[1:]\n",
        "    book_link = 'http://books.toscrape.com/' + book_tag.find('a')['href']\n",
        "    return book_title, book_rating, book_price, book_link"
      ],
      "metadata": {
        "id": "iHDPZtYyNx-i"
      },
      "execution_count": 12,
      "outputs": []
    },
    {
      "cell_type": "markdown",
      "source": [
        "This bloack of code gives only the first twenty entries of the home page\n"
      ],
      "metadata": {
        "id": "pwSEwR-oQkeo"
      }
    },
    {
      "cell_type": "code",
      "source": [
        "url=\"http://books.toscrape.com/\"\n",
        "response = requests.get(url)\n",
        "\n",
        "#Converting to BeautifulSoup\n",
        "\n",
        "b_soup= bs(response.text)\n",
        "book_list = book_tags();\n",
        "print(len(book_list))"
      ],
      "metadata": {
        "colab": {
          "base_uri": "https://localhost:8080/"
        },
        "id": "2CtScs1KQEd6",
        "outputId": "4138aeee-a337-4598-96a4-7b0e0adf8d35"
      },
      "execution_count": 15,
      "outputs": [
        {
          "output_type": "stream",
          "name": "stdout",
          "text": [
            "20\n"
          ]
        }
      ]
    },
    {
      "cell_type": "code",
      "source": [
        "def get_soup(url):\n",
        "    \"\"\"Takes URL and returns a soup object\"\"\"\n",
        "    resp = requests.get(url)\n",
        "    if resp.status_code == 200:\n",
        "        return bs(resp.text)\n",
        "    else: return None\n",
        "\n",
        "def data_collection(page):\n",
        "    books=[]\n",
        "    for i in range(1,page+1):\n",
        "        url= f'http://books.toscrape.com/catalogue/page-{i}.html'\n",
        "        b_soup=get_soup(url)\n",
        "        if b_soup:\n",
        "            try:\n",
        "                book_tags = b_soup.find_all('article', class_='product_pod')\n",
        "\n",
        "                for book_tag in book_tags:\n",
        "                    books.append(book_details(book_tag))\n",
        "            except:\n",
        "                print(f'Error reading page {i} . . .')\n",
        "    books = pd.DataFrame(books,columns=['title','rating','price','link'])\n",
        "    return books"
      ],
      "metadata": {
        "id": "ciCIqu6GQ3Q5"
      },
      "execution_count": 18,
      "outputs": []
    },
    {
      "cell_type": "code",
      "source": [
        "books_frame = data_collection(50)\n",
        "books_frame.info()"
      ],
      "metadata": {
        "colab": {
          "base_uri": "https://localhost:8080/"
        },
        "id": "7_mOEq0KSFSQ",
        "outputId": "b48a359d-7fe2-4dc9-fdb4-b73d042a91e3"
      },
      "execution_count": 24,
      "outputs": [
        {
          "output_type": "stream",
          "name": "stdout",
          "text": [
            "<class 'pandas.core.frame.DataFrame'>\n",
            "RangeIndex: 1000 entries, 0 to 999\n",
            "Data columns (total 4 columns):\n",
            " #   Column  Non-Null Count  Dtype \n",
            "---  ------  --------------  ----- \n",
            " 0   title   1000 non-null   object\n",
            " 1   rating  1000 non-null   object\n",
            " 2   price   1000 non-null   object\n",
            " 3   link    1000 non-null   object\n",
            "dtypes: object(4)\n",
            "memory usage: 31.4+ KB\n"
          ]
        }
      ]
    },
    {
      "cell_type": "markdown",
      "source": [
        "Converting to csv file"
      ],
      "metadata": {
        "id": "sN4LS6f-Snv2"
      }
    },
    {
      "cell_type": "code",
      "source": [
        "books_frame.to_csv('books.csv',index=False)"
      ],
      "metadata": {
        "id": "N6Xo_KxqSnWH"
      },
      "execution_count": 25,
      "outputs": []
    }
  ]
}